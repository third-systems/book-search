{
 "cells": [
  {
   "cell_type": "markdown",
   "metadata": {},
   "source": [
    "## Load Review Data"
   ]
  },
  {
   "cell_type": "code",
   "execution_count": 16,
   "metadata": {},
   "outputs": [],
   "source": [
    "import pandas as pd\n",
    "import json"
   ]
  },
  {
   "cell_type": "code",
   "execution_count": 17,
   "metadata": {},
   "outputs": [
    {
     "data": {
      "text/html": [
       "<div>\n",
       "<style scoped>\n",
       "    .dataframe tbody tr th:only-of-type {\n",
       "        vertical-align: middle;\n",
       "    }\n",
       "\n",
       "    .dataframe tbody tr th {\n",
       "        vertical-align: top;\n",
       "    }\n",
       "\n",
       "    .dataframe thead th {\n",
       "        text-align: right;\n",
       "    }\n",
       "</style>\n",
       "<table border=\"1\" class=\"dataframe\">\n",
       "  <thead>\n",
       "    <tr style=\"text-align: right;\">\n",
       "      <th></th>\n",
       "      <th>item_id</th>\n",
       "      <th>review</th>\n",
       "    </tr>\n",
       "  </thead>\n",
       "  <tbody>\n",
       "    <tr>\n",
       "      <th>48</th>\n",
       "      <td>41335427</td>\n",
       "      <td>I think we can all agree that the basics are a...</td>\n",
       "    </tr>\n",
       "    <tr>\n",
       "      <th>158</th>\n",
       "      <td>41335427</td>\n",
       "      <td>I think this may become my second favorite in ...</td>\n",
       "    </tr>\n",
       "    <tr>\n",
       "      <th>320</th>\n",
       "      <td>41335427</td>\n",
       "      <td>When I began rereading this series back in Feb...</td>\n",
       "    </tr>\n",
       "    <tr>\n",
       "      <th>406</th>\n",
       "      <td>41335427</td>\n",
       "      <td>Vua doc xong lai cuon Harry Potter va Hoang Tu...</td>\n",
       "    </tr>\n",
       "    <tr>\n",
       "      <th>443</th>\n",
       "      <td>41335427</td>\n",
       "      <td>Old review I wrote on my blog (http://douglasc...</td>\n",
       "    </tr>\n",
       "  </tbody>\n",
       "</table>\n",
       "</div>"
      ],
      "text/plain": [
       "      item_id                                             review\n",
       "48   41335427  I think we can all agree that the basics are a...\n",
       "158  41335427  I think this may become my second favorite in ...\n",
       "320  41335427  When I began rereading this series back in Feb...\n",
       "406  41335427  Vua doc xong lai cuon Harry Potter va Hoang Tu...\n",
       "443  41335427  Old review I wrote on my blog (http://douglasc..."
      ]
     },
     "execution_count": 17,
     "metadata": {},
     "output_type": "execute_result"
    }
   ],
   "source": [
    "reviews_filename = '../data/reviews.json'\n",
    "with open(reviews_filename, 'r') as f:\n",
    "    data = [json.loads(line) for line in f]\n",
    "df = pd.DataFrame(data)\n",
    "df.rename(columns={'txt': 'review'}, inplace=True)\n",
    "df = df[df['review'].str.len() >= 3000]\n",
    "df.head()"
   ]
  },
  {
   "cell_type": "code",
   "execution_count": 19,
   "metadata": {},
   "outputs": [
    {
     "name": "stdout",
     "output_type": "stream",
     "text": [
      "Number of unique items: 4280\n",
      "Number of rows: 10000\n"
     ]
    }
   ],
   "source": [
    "df_sample = df.sample(10000)\n",
    "print('Number of unique items:' , df_sample['item_id'].nunique())\n",
    "print('Number of rows:', df_sample.shape[0])"
   ]
  },
  {
   "cell_type": "markdown",
   "metadata": {},
   "source": [
    "## Chunk Review"
   ]
  },
  {
   "cell_type": "code",
   "execution_count": 26,
   "metadata": {},
   "outputs": [],
   "source": [
    "from langchain.text_splitter import RecursiveCharacterTextSplitter\n",
    "text_splitter = RecursiveCharacterTextSplitter(\n",
    "    # Set a really small chunk size, just to show.\n",
    "    chunk_size=500,\n",
    "    chunk_overlap=20,\n",
    "    length_function=len,\n",
    "    is_separator_regex=False,\n",
    ")"
   ]
  },
  {
   "cell_type": "code",
   "execution_count": 27,
   "metadata": {},
   "outputs": [
    {
     "name": "stderr",
     "output_type": "stream",
     "text": [
      "No sentence-transformers model found with name Supabase/gte-small. Creating a new one with MEAN pooling.\n"
     ]
    }
   ],
   "source": [
    "from sentence_transformers import SentenceTransformer\n",
    "model = SentenceTransformer(\"Supabase/gte-small\")\n",
    "vectors = []\n",
    "for index, row in df_sample.head().iterrows():\n",
    "    splitted = text_splitter.create_documents([row['review']])\n",
    "    for i, chunk in enumerate(splitted):\n",
    "        text = chunk.page_content\n",
    "        embeddings = model.encode(text)\n",
    "        vectors.append({\n",
    "            'item_id': row['item_id'],\n",
    "            'chunk': text,\n",
    "            'embedding': embeddings.tolist()\n",
    "        })\n",
    "\n",
    "df_chunks = pd.DataFrame(vectors)"
   ]
  },
  {
   "cell_type": "code",
   "execution_count": 30,
   "metadata": {},
   "outputs": [
    {
     "data": {
      "text/html": [
       "<div>\n",
       "<style scoped>\n",
       "    .dataframe tbody tr th:only-of-type {\n",
       "        vertical-align: middle;\n",
       "    }\n",
       "\n",
       "    .dataframe tbody tr th {\n",
       "        vertical-align: top;\n",
       "    }\n",
       "\n",
       "    .dataframe thead th {\n",
       "        text-align: right;\n",
       "    }\n",
       "</style>\n",
       "<table border=\"1\" class=\"dataframe\">\n",
       "  <thead>\n",
       "    <tr style=\"text-align: right;\">\n",
       "      <th></th>\n",
       "      <th>item_id</th>\n",
       "      <th>chunk</th>\n",
       "      <th>embedding</th>\n",
       "    </tr>\n",
       "  </thead>\n",
       "  <tbody>\n",
       "    <tr>\n",
       "      <th>0</th>\n",
       "      <td>16441531</td>\n",
       "      <td>This book reminds me of my own relationship it...</td>\n",
       "      <td>[-0.3568374216556549, 0.06629440188407898, 0.2...</td>\n",
       "    </tr>\n",
       "    <tr>\n",
       "      <th>1</th>\n",
       "      <td>16441531</td>\n",
       "      <td>I do want to say to all the people who think T...</td>\n",
       "      <td>[-0.10588225722312927, 0.3744885325431824, 0.2...</td>\n",
       "    </tr>\n",
       "    <tr>\n",
       "      <th>2</th>\n",
       "      <td>16441531</td>\n",
       "      <td>If a woman ENJOYS a man like that, it's just l...</td>\n",
       "      <td>[-0.10144024342298508, 0.40626809000968933, 0....</td>\n",
       "    </tr>\n",
       "    <tr>\n",
       "      <th>3</th>\n",
       "      <td>16441531</td>\n",
       "      <td>The entire first half of my book is FILLED wit...</td>\n",
       "      <td>[-0.5674555897712708, 0.29009532928466797, 0.2...</td>\n",
       "    </tr>\n",
       "    <tr>\n",
       "      <th>4</th>\n",
       "      <td>16441531</td>\n",
       "      <td>And Abby was a total badass in the first half ...</td>\n",
       "      <td>[-0.6340095400810242, 0.1991787552833557, 0.33...</td>\n",
       "    </tr>\n",
       "  </tbody>\n",
       "</table>\n",
       "</div>"
      ],
      "text/plain": [
       "    item_id                                              chunk  \\\n",
       "0  16441531  This book reminds me of my own relationship it...   \n",
       "1  16441531  I do want to say to all the people who think T...   \n",
       "2  16441531  If a woman ENJOYS a man like that, it's just l...   \n",
       "3  16441531  The entire first half of my book is FILLED wit...   \n",
       "4  16441531  And Abby was a total badass in the first half ...   \n",
       "\n",
       "                                           embedding  \n",
       "0  [-0.3568374216556549, 0.06629440188407898, 0.2...  \n",
       "1  [-0.10588225722312927, 0.3744885325431824, 0.2...  \n",
       "2  [-0.10144024342298508, 0.40626809000968933, 0....  \n",
       "3  [-0.5674555897712708, 0.29009532928466797, 0.2...  \n",
       "4  [-0.6340095400810242, 0.1991787552833557, 0.33...  "
      ]
     },
     "execution_count": 30,
     "metadata": {},
     "output_type": "execute_result"
    }
   ],
   "source": [
    "df_chunks.head()"
   ]
  },
  {
   "cell_type": "code",
   "execution_count": null,
   "metadata": {},
   "outputs": [],
   "source": []
  }
 ],
 "metadata": {
  "kernelspec": {
   "display_name": ".venv",
   "language": "python",
   "name": "python3"
  },
  "language_info": {
   "codemirror_mode": {
    "name": "ipython",
    "version": 3
   },
   "file_extension": ".py",
   "mimetype": "text/x-python",
   "name": "python",
   "nbconvert_exporter": "python",
   "pygments_lexer": "ipython3",
   "version": "3.11.6"
  }
 },
 "nbformat": 4,
 "nbformat_minor": 2
}
